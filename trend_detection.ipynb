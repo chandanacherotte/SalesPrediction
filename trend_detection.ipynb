{
 "cells": [
  {
   "cell_type": "code",
   "execution_count": 1,
   "metadata": {},
   "outputs": [
    {
     "name": "stderr",
     "output_type": "stream",
     "text": [
      "Using TensorFlow backend.\n"
     ]
    }
   ],
   "source": [
    "from keras.models import Sequential"
   ]
  },
  {
   "cell_type": "code",
   "execution_count": 2,
   "metadata": {},
   "outputs": [],
   "source": [
    "from keras.layers import Conv2D\n",
    "from keras.layers import MaxPooling2D\n",
    "from keras.layers import Flatten\n",
    "from keras.layers import Dense\n",
    "import numpy as np"
   ]
  },
  {
   "cell_type": "code",
   "execution_count": 3,
   "metadata": {},
   "outputs": [
    {
     "name": "stdout",
     "output_type": "stream",
     "text": [
      "WARNING:tensorflow:From /home/keerthana/mainproject/lib/python3.5/site-packages/tensorflow/python/framework/op_def_library.py:263: colocate_with (from tensorflow.python.framework.ops) is deprecated and will be removed in a future version.\n",
      "Instructions for updating:\n",
      "Colocations handled automatically by placer.\n",
      "Found 80 images belonging to 2 classes.\n",
      "Found 22 images belonging to 2 classes.\n",
      "WARNING:tensorflow:From /home/keerthana/mainproject/lib/python3.5/site-packages/tensorflow/python/ops/math_ops.py:3066: to_int32 (from tensorflow.python.ops.math_ops) is deprecated and will be removed in a future version.\n",
      "Instructions for updating:\n",
      "Use tf.cast instead.\n",
      "Epoch 1/20\n",
      "5/5 [==============================] - 10s 2s/step - loss: 1.2220 - acc: 0.4132 - val_loss: 0.6933 - val_acc: 0.5000\n",
      "Epoch 2/20\n",
      "5/5 [==============================] - 8s 2s/step - loss: 0.6938 - acc: 0.4805 - val_loss: 0.6932 - val_acc: 0.5000\n",
      "Epoch 3/20\n",
      "5/5 [==============================] - 8s 2s/step - loss: 0.6931 - acc: 0.5091 - val_loss: 0.6913 - val_acc: 0.5000\n",
      "Epoch 4/20\n",
      "5/5 [==============================] - 8s 2s/step - loss: 0.6911 - acc: 0.5041 - val_loss: 0.6893 - val_acc: 0.5000\n",
      "Epoch 5/20\n",
      "5/5 [==============================] - 8s 2s/step - loss: 0.6855 - acc: 0.5404 - val_loss: 0.6863 - val_acc: 0.5000\n",
      "Epoch 6/20\n",
      "5/5 [==============================] - 8s 2s/step - loss: 0.6850 - acc: 0.4870 - val_loss: 0.6792 - val_acc: 0.5000\n",
      "Epoch 7/20\n",
      "5/5 [==============================] - 8s 2s/step - loss: 0.6776 - acc: 0.6013 - val_loss: 0.6700 - val_acc: 0.5455\n",
      "Epoch 8/20\n",
      "5/5 [==============================] - 8s 2s/step - loss: 0.6667 - acc: 0.5729 - val_loss: 0.6562 - val_acc: 0.5455\n",
      "Epoch 9/20\n",
      "5/5 [==============================] - 8s 2s/step - loss: 0.6563 - acc: 0.7188 - val_loss: 0.6339 - val_acc: 0.8636\n",
      "Epoch 10/20\n",
      "5/5 [==============================] - 8s 2s/step - loss: 0.6345 - acc: 0.7587 - val_loss: 0.6179 - val_acc: 0.6364\n",
      "Epoch 11/20\n",
      "5/5 [==============================] - 8s 2s/step - loss: 0.6125 - acc: 0.7357 - val_loss: 0.5751 - val_acc: 0.8636\n",
      "Epoch 12/20\n",
      "5/5 [==============================] - 8s 2s/step - loss: 0.5664 - acc: 0.7891 - val_loss: 0.5380 - val_acc: 0.6364\n",
      "Epoch 13/20\n",
      "5/5 [==============================] - 8s 2s/step - loss: 0.5306 - acc: 0.8009 - val_loss: 0.4772 - val_acc: 0.8636\n",
      "Epoch 14/20\n",
      "5/5 [==============================] - 8s 2s/step - loss: 0.4535 - acc: 0.8880 - val_loss: 0.4427 - val_acc: 0.7273\n",
      "Epoch 15/20\n",
      "5/5 [==============================] - 9s 2s/step - loss: 0.4126 - acc: 0.8555 - val_loss: 0.4029 - val_acc: 0.8636\n",
      "Epoch 16/20\n",
      "5/5 [==============================] - 10s 2s/step - loss: 0.3473 - acc: 0.8738 - val_loss: 0.3811 - val_acc: 0.8636\n",
      "Epoch 17/20\n",
      "5/5 [==============================] - 9s 2s/step - loss: 0.3190 - acc: 0.8698 - val_loss: 0.4215 - val_acc: 0.6364\n",
      "Epoch 18/20\n",
      "5/5 [==============================] - 8s 2s/step - loss: 0.2958 - acc: 0.8698 - val_loss: 0.4825 - val_acc: 0.7727\n",
      "Epoch 19/20\n",
      "5/5 [==============================] - 9s 2s/step - loss: 0.2589 - acc: 0.9236 - val_loss: 0.3887 - val_acc: 0.6364\n",
      "Epoch 20/20\n",
      "5/5 [==============================] - 9s 2s/step - loss: 0.2044 - acc: 0.9245 - val_loss: 0.4480 - val_acc: 0.7727\n"
     ]
    },
    {
     "data": {
      "text/plain": [
       "<keras.callbacks.History at 0x7fcdbc0e4a20>"
      ]
     },
     "execution_count": 3,
     "metadata": {},
     "output_type": "execute_result"
    }
   ],
   "source": [
    "# Initialising the CNN\n",
    "classifier = Sequential()\n",
    "# Step 1 - Convolution\n",
    "classifier.add(Conv2D(32, (3, 3), input_shape = (64, 64, 3), activation = 'relu'))\n",
    "# Step 2 - Pooling\n",
    "classifier.add(MaxPooling2D(pool_size = (2, 2)))\n",
    "# Adding a second convolutional layer\n",
    "classifier.add(Conv2D(32, (3, 3), activation = 'relu'))\n",
    "classifier.add(MaxPooling2D(pool_size = (2, 2)))\n",
    "# Step 3 - Flattening\n",
    "classifier.add(Flatten())\n",
    "# Step 4 - Full connection\n",
    "classifier.add(Dense(units = 128, activation = 'relu'))\n",
    "classifier.add(Dense(units = 1, activation = 'sigmoid'))\n",
    "# Compiling the CNN\n",
    "classifier.compile(optimizer = 'adam', loss = 'binary_crossentropy', metrics = ['accuracy'])\n",
    "# Part 2 - Fitting the CNN to the images\n",
    "from keras.preprocessing.image import ImageDataGenerator\n",
    "train_datagen = ImageDataGenerator(rescale = 1./255,\n",
    "shear_range = 0.2,\n",
    "zoom_range = 0.2,\n",
    "horizontal_flip = True)\n",
    "test_datagen = ImageDataGenerator(rescale = 1./255)\n",
    "training_set = train_datagen.flow_from_directory('trends/train_set',\n",
    "target_size = (64, 64),\n",
    "batch_size = 32,\n",
    "class_mode = 'binary')\n",
    "test_set = test_datagen.flow_from_directory('trends/test_set',\n",
    "target_size = (64, 64),\n",
    "batch_size = 32,\n",
    "class_mode = 'binary')\n",
    "classifier.fit_generator(training_set,\n",
    "steps_per_epoch = 5,\n",
    "epochs = 20,\n",
    "validation_data = test_set,\n",
    "validation_steps = 123)\n"
   ]
  },
  {
   "cell_type": "code",
   "execution_count": 4,
   "metadata": {},
   "outputs": [],
   "source": [
    "from keras.preprocessing import image\n",
    "test_image = image.load_img('s1.png', target_size = (64, 64))\n",
    "test_image = image.img_to_array(test_image)\n",
    "test_image = np.expand_dims(test_image, axis = 0)\n",
    "result = classifier.predict(test_image)\n",
    "training_set.class_indices\n",
    "if result[0][0] == 1:\n",
    "    prediction = 'continous'\n",
    "else:\n",
    "    prediction = 'reversal'    "
   ]
  },
  {
   "cell_type": "code",
   "execution_count": 5,
   "metadata": {},
   "outputs": [
    {
     "data": {
      "text/plain": [
       "'reversal'"
      ]
     },
     "execution_count": 5,
     "metadata": {},
     "output_type": "execute_result"
    }
   ],
   "source": [
    "prediction"
   ]
  },
  {
   "cell_type": "code",
   "execution_count": 9,
   "metadata": {},
   "outputs": [
    {
     "data": {
      "text/plain": [
       "['filename2.pkl']"
      ]
     },
     "execution_count": 9,
     "metadata": {},
     "output_type": "execute_result"
    }
   ],
   "source": [
    "import pickle \n",
    "  \n",
    "# Save the trained model as a pickle string. \n",
    "saved_model = pickle.dumps(classifier) \n",
    "  \n",
    "# Load the pickled model \n",
    "knn_from_pickle = pickle.loads(saved_model) \n",
    "  \n",
    "from sklearn.externals import joblib \n",
    "  \n",
    "# Save the model as a pickle in a file \n",
    "joblib.dump(classifier, 'filename2.pkl') "
   ]
  },
  {
   "cell_type": "code",
   "execution_count": null,
   "metadata": {},
   "outputs": [],
   "source": []
  }
 ],
 "metadata": {
  "kernelspec": {
   "display_name": "Python 3",
   "language": "python",
   "name": "python3"
  },
  "language_info": {
   "codemirror_mode": {
    "name": "ipython",
    "version": 3
   },
   "file_extension": ".py",
   "mimetype": "text/x-python",
   "name": "python",
   "nbconvert_exporter": "python",
   "pygments_lexer": "ipython3",
   "version": "3.6.7"
  }
 },
 "nbformat": 4,
 "nbformat_minor": 2
}
