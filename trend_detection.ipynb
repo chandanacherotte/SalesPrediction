{
 "cells": [
  {
   "cell_type": "code",
   "execution_count": 2,
   "metadata": {},
   "outputs": [
    {
     "name": "stderr",
     "output_type": "stream",
     "text": [
      "Using TensorFlow backend.\n"
     ]
    }
   ],
   "source": [
    "from keras.models import Sequential"
   ]
  },
  {
   "cell_type": "code",
   "execution_count": 3,
   "metadata": {},
   "outputs": [],
   "source": [
    "from keras.layers import Conv2D\n",
    "from keras.layers import MaxPooling2D\n",
    "from keras.layers import Flatten\n",
    "from keras.layers import Dense\n",
    "import numpy as np"
   ]
  },
  {
   "cell_type": "code",
   "execution_count": 4,
   "metadata": {},
   "outputs": [
    {
     "name": "stdout",
     "output_type": "stream",
     "text": [
      "WARNING:tensorflow:From /home/keerthana/mainproject/lib/python3.5/site-packages/tensorflow/python/framework/op_def_library.py:263: colocate_with (from tensorflow.python.framework.ops) is deprecated and will be removed in a future version.\n",
      "Instructions for updating:\n",
      "Colocations handled automatically by placer.\n",
      "Found 94 images belonging to 2 classes.\n",
      "Found 42 images belonging to 2 classes.\n",
      "WARNING:tensorflow:From /home/keerthana/mainproject/lib/python3.5/site-packages/tensorflow/python/ops/math_ops.py:3066: to_int32 (from tensorflow.python.ops.math_ops) is deprecated and will be removed in a future version.\n",
      "Instructions for updating:\n",
      "Use tf.cast instead.\n",
      "Epoch 1/20\n",
      "5/5 [==============================] - 32s 6s/step - loss: 1.2445 - acc: 0.5014 - val_loss: 0.6929 - val_acc: 0.5004\n",
      "Epoch 2/20\n",
      "5/5 [==============================] - 31s 6s/step - loss: 0.6846 - acc: 0.6485 - val_loss: 0.6998 - val_acc: 0.4996\n",
      "Epoch 3/20\n",
      "5/5 [==============================] - 31s 6s/step - loss: 0.6630 - acc: 0.6475 - val_loss: 0.7144 - val_acc: 0.5000\n",
      "Epoch 4/20\n",
      "5/5 [==============================] - 32s 6s/step - loss: 0.6588 - acc: 0.6336 - val_loss: 0.7430 - val_acc: 0.5000\n",
      "Epoch 5/20\n",
      "5/5 [==============================] - 32s 6s/step - loss: 0.6584 - acc: 0.6405 - val_loss: 0.7494 - val_acc: 0.5000\n",
      "Epoch 6/20\n",
      "5/5 [==============================] - 30s 6s/step - loss: 0.6565 - acc: 0.6429 - val_loss: 0.7173 - val_acc: 0.5000\n",
      "Epoch 7/20\n",
      "5/5 [==============================] - 31s 6s/step - loss: 0.6644 - acc: 0.6207 - val_loss: 0.7260 - val_acc: 0.5000\n",
      "Epoch 8/20\n",
      "5/5 [==============================] - 31s 6s/step - loss: 0.6490 - acc: 0.6545 - val_loss: 0.7444 - val_acc: 0.5000\n",
      "Epoch 9/20\n",
      "5/5 [==============================] - 31s 6s/step - loss: 0.6533 - acc: 0.6426 - val_loss: 0.7244 - val_acc: 0.5008\n",
      "Epoch 10/20\n",
      "5/5 [==============================] - 31s 6s/step - loss: 0.6413 - acc: 0.6583 - val_loss: 0.7471 - val_acc: 0.4992\n",
      "Epoch 11/20\n",
      "5/5 [==============================] - 31s 6s/step - loss: 0.6733 - acc: 0.6022 - val_loss: 0.7394 - val_acc: 0.5004\n",
      "Epoch 12/20\n",
      "5/5 [==============================] - 31s 6s/step - loss: 0.6406 - acc: 0.6545 - val_loss: 0.7284 - val_acc: 0.4996\n",
      "Epoch 13/20\n",
      "5/5 [==============================] - 31s 6s/step - loss: 0.6449 - acc: 0.6402 - val_loss: 0.7477 - val_acc: 0.4988\n",
      "Epoch 14/20\n",
      "5/5 [==============================] - 30s 6s/step - loss: 0.6400 - acc: 0.6346 - val_loss: 0.7329 - val_acc: 0.5012\n",
      "Epoch 15/20\n",
      "5/5 [==============================] - 31s 6s/step - loss: 0.6283 - acc: 0.6405 - val_loss: 0.7546 - val_acc: 0.4988\n",
      "Epoch 16/20\n",
      "5/5 [==============================] - 30s 6s/step - loss: 0.6222 - acc: 0.6392 - val_loss: 0.7442 - val_acc: 0.5012\n",
      "Epoch 17/20\n",
      "5/5 [==============================] - 31s 6s/step - loss: 0.6219 - acc: 0.6112 - val_loss: 0.7880 - val_acc: 0.5000\n",
      "Epoch 18/20\n",
      "5/5 [==============================] - 30s 6s/step - loss: 0.5686 - acc: 0.6750 - val_loss: 0.8398 - val_acc: 0.5004\n",
      "Epoch 19/20\n",
      "5/5 [==============================] - 31s 6s/step - loss: 0.5663 - acc: 0.6900 - val_loss: 0.8529 - val_acc: 0.5000\n",
      "Epoch 20/20\n",
      "5/5 [==============================] - 31s 6s/step - loss: 0.5523 - acc: 0.6911 - val_loss: 0.9407 - val_acc: 0.5000\n"
     ]
    },
    {
     "data": {
      "text/plain": [
       "<keras.callbacks.History at 0x7f302d7ccbe0>"
      ]
     },
     "execution_count": 4,
     "metadata": {},
     "output_type": "execute_result"
    }
   ],
   "source": [
    "# Initialising the CNN\n",
    "classifier = Sequential()\n",
    "# Step 1 - Convolution\n",
    "classifier.add(Conv2D(32, (3, 3), input_shape = (64, 64, 3), activation = 'relu'))\n",
    "# Step 2 - Pooling\n",
    "classifier.add(MaxPooling2D(pool_size = (2, 2)))\n",
    "# Adding a second convolutional layer\n",
    "classifier.add(Conv2D(32, (3, 3), activation = 'relu'))\n",
    "classifier.add(MaxPooling2D(pool_size = (2, 2)))\n",
    "# Step 3 - Flattening\n",
    "classifier.add(Flatten())\n",
    "# Step 4 - Full connection\n",
    "classifier.add(Dense(units = 128, activation = 'relu'))\n",
    "classifier.add(Dense(units = 1, activation = 'sigmoid'))\n",
    "# Compiling the CNN\n",
    "classifier.compile(optimizer = 'adam', loss = 'binary_crossentropy', metrics = ['accuracy'])\n",
    "# Part 2 - Fitting the CNN to the images\n",
    "from keras.preprocessing.image import ImageDataGenerator\n",
    "train_datagen = ImageDataGenerator(rescale = 1./255,\n",
    "shear_range = 0.2,\n",
    "zoom_range = 0.2,\n",
    "horizontal_flip = True)\n",
    "test_datagen = ImageDataGenerator(rescale = 1./255)\n",
    "training_set = train_datagen.flow_from_directory('trends/train_set',\n",
    "target_size = (64, 64),\n",
    "batch_size = 32,\n",
    "class_mode = 'binary')\n",
    "test_set = test_datagen.flow_from_directory('trends/test_set',\n",
    "target_size = (64, 64),\n",
    "batch_size = 32,\n",
    "class_mode = 'binary')\n",
    "classifier.fit_generator(training_set,\n",
    "steps_per_epoch = 5,\n",
    "epochs = 20,\n",
    "validation_data = test_set,\n",
    "validation_steps = 123)\n"
   ]
  },
  {
   "cell_type": "code",
   "execution_count": 4,
   "metadata": {},
   "outputs": [],
   "source": [
    "from keras.preprocessing import image\n",
    "test_image = image.load_img('s1.png', target_size = (64, 64))\n",
    "test_image = image.img_to_array(test_image)\n",
    "test_image = np.expand_dims(test_image, axis = 0)\n",
    "result = classifier.predict(test_image)\n",
    "training_set.class_indices\n",
    "if result[0][0] == 1:\n",
    "    prediction = 'uptrend'\n",
    "else:\n",
    "    prediction = 'downtrend'    "
   ]
  },
  {
   "cell_type": "code",
   "execution_count": 5,
   "metadata": {},
   "outputs": [
    {
     "data": {
      "text/plain": [
       "'uptrend'"
      ]
     },
     "execution_count": 5,
     "metadata": {},
     "output_type": "execute_result"
    }
   ],
   "source": [
    "prediction"
   ]
  },
  {
   "cell_type": "code",
   "execution_count": null,
   "metadata": {},
   "outputs": [],
   "source": []
  }
 ],
 "metadata": {
  "kernelspec": {
   "display_name": "Python 3",
   "language": "python",
   "name": "python3"
  },
  "language_info": {
   "codemirror_mode": {
    "name": "ipython",
    "version": 3
   },
   "file_extension": ".py",
   "mimetype": "text/x-python",
   "name": "python",
   "nbconvert_exporter": "python",
   "pygments_lexer": "ipython3",
   "version": "3.5.2"
  }
 },
 "nbformat": 4,
 "nbformat_minor": 2
}
