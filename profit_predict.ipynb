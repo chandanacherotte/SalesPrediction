{
 "cells": [
  {
   "cell_type": "code",
   "execution_count": 7,
   "metadata": {},
   "outputs": [
    {
     "name": "stdout",
     "output_type": "stream",
     "text": [
      "          Sales         Category\n",
      "0      261.9600        Furniture\n",
      "1      731.9400        Furniture\n",
      "2       14.6200  Office Supplies\n",
      "3      957.5775        Furniture\n",
      "4       22.3680  Office Supplies\n",
      "5       48.8600        Furniture\n",
      "6        7.2800  Office Supplies\n",
      "7      907.1520       Technology\n",
      "8       18.5040  Office Supplies\n",
      "9      114.9000  Office Supplies\n",
      "10    1706.1840        Furniture\n",
      "11     911.4240       Technology\n",
      "12      15.5520  Office Supplies\n",
      "13     407.9760  Office Supplies\n",
      "14      68.8100  Office Supplies\n",
      "15       2.5440  Office Supplies\n",
      "16     665.8800  Office Supplies\n",
      "17      55.5000  Office Supplies\n",
      "18       8.5600  Office Supplies\n",
      "19     213.4800       Technology\n",
      "20      22.7200  Office Supplies\n",
      "21      19.4600  Office Supplies\n",
      "22      60.3400  Office Supplies\n",
      "23      71.3720        Furniture\n",
      "24    1044.6300        Furniture\n",
      "25      11.6480  Office Supplies\n",
      "26      90.5700       Technology\n",
      "27    3083.4300        Furniture\n",
      "28       9.6180  Office Supplies\n",
      "29     124.2000        Furniture\n",
      "...         ...              ...\n",
      "9964    13.4000        Furniture\n",
      "9965     4.9800  Office Supplies\n",
      "9966   109.6900  Office Supplies\n",
      "9967    40.2000  Office Supplies\n",
      "9968   735.9800  Office Supplies\n",
      "9969    22.7500  Office Supplies\n",
      "9970   119.5600  Office Supplies\n",
      "9971   140.7500  Office Supplies\n",
      "9972    99.5680  Office Supplies\n",
      "9973   271.9600       Technology\n",
      "9974    18.6900  Office Supplies\n",
      "9975    13.3600  Office Supplies\n",
      "9976   249.5840       Technology\n",
      "9977    13.8600  Office Supplies\n",
      "9978    13.3760  Office Supplies\n",
      "9979   437.4720  Office Supplies\n",
      "9980    85.9800        Furniture\n",
      "9981    16.5200  Office Supplies\n",
      "9982    35.5600  Office Supplies\n",
      "9983    97.9800       Technology\n",
      "9984    31.5000  Office Supplies\n",
      "9985    55.6000  Office Supplies\n",
      "9986    36.2400       Technology\n",
      "9987    79.9900       Technology\n",
      "9988   206.1000       Technology\n",
      "9989    25.2480        Furniture\n",
      "9990    91.9600        Furniture\n",
      "9991   258.5760       Technology\n",
      "9992    29.6000  Office Supplies\n",
      "9993   243.1600  Office Supplies\n",
      "\n",
      "[9994 rows x 2 columns]\n",
      "         Profit\n",
      "0       41.9136\n",
      "1      219.5820\n",
      "2        6.8714\n",
      "3     -383.0310\n",
      "4        2.5164\n",
      "5       14.1694\n",
      "6        1.9656\n",
      "7       90.7152\n",
      "8        5.7825\n",
      "9       34.4700\n",
      "10      85.3092\n",
      "11      68.3568\n",
      "12       5.4432\n",
      "13     132.5922\n",
      "14    -123.8580\n",
      "15      -3.8160\n",
      "16      13.3176\n",
      "17       9.9900\n",
      "18       2.4824\n",
      "19      16.0110\n",
      "20       7.3840\n",
      "21       5.0596\n",
      "22      15.6884\n",
      "23      -1.0196\n",
      "24     240.2649\n",
      "25       4.2224\n",
      "26      11.7741\n",
      "27   -1665.0522\n",
      "28      -7.0532\n",
      "29      15.5250\n",
      "...         ...\n",
      "9964     6.4320\n",
      "9965     2.3406\n",
      "9966    51.5543\n",
      "9967    18.0900\n",
      "9968   331.1910\n",
      "9969     6.5975\n",
      "9970    54.9976\n",
      "9971    42.2250\n",
      "9972    33.6042\n",
      "9973    27.1960\n",
      "9974     5.2332\n",
      "9975     6.4128\n",
      "9976    31.1980\n",
      "9977     0.0000\n",
      "9978     4.6816\n",
      "9979   153.1152\n",
      "9980    22.3548\n",
      "9981     5.3690\n",
      "9982    16.7132\n",
      "9983    27.4344\n",
      "9984    15.1200\n",
      "9985    16.1240\n",
      "9986    15.2208\n",
      "9987    28.7964\n",
      "9988    55.6470\n",
      "9989     4.1028\n",
      "9990    15.6332\n",
      "9991    19.3932\n",
      "9992    13.3200\n",
      "9993    72.9480\n",
      "\n",
      "[9994 rows x 1 columns]\n"
     ]
    },
    {
     "name": "stderr",
     "output_type": "stream",
     "text": [
      "/usr/lib/python3/dist-packages/ipykernel_launcher.py:35: SettingWithCopyWarning: \n",
      "A value is trying to be set on a copy of a slice from a DataFrame.\n",
      "Try using .loc[row_indexer,col_indexer] = value instead\n",
      "\n",
      "See the caveats in the documentation: http://pandas.pydata.org/pandas-docs/stable/indexing.html#indexing-view-versus-copy\n",
      "/usr/local/lib/python3.6/dist-packages/sklearn/model_selection/_split.py:2179: FutureWarning: From version 0.21, test_size will always complement train_size unless both are specified.\n",
      "  FutureWarning)\n"
     ]
    }
   ],
   "source": [
    "import warnings\n",
    "import itertools\n",
    "import numpy as np\n",
    "import matplotlib.pyplot as plt\n",
    "import xlrd\n",
    "import os\n",
    "import pandas as pd\n",
    "import statsmodels.api as sm\n",
    "import matplotlib\n",
    "\n",
    "def cate_to_score(x):\n",
    "    if x == 'Furniture':\n",
    "        return 1\n",
    "    elif x == 'Office Supplies':\n",
    "        return 2\n",
    "    elif x == 'Technology':\n",
    "        return 3\n",
    "    else:\n",
    "        return 0\n",
    "def accuracy_score(pred,y_test,reg) :\n",
    "    error_rate=((pred-y_test)**2).mean()/y_test.sum()\n",
    "    accuracy=1-error_rate\n",
    "    return accuracy\n",
    "    \n",
    "\n",
    "\n",
    "\n",
    "df=pd.read_excel(' Superstore.xls')\n",
    "\n",
    "\n",
    "\n",
    "feature_matrix=df[['Sales','Category']]\n",
    "print (feature_matrix)\n",
    "\n",
    "feature_matrix['Category'] = feature_matrix['Category'].apply(cate_to_score)\n",
    "\n",
    "feature_matrix\n",
    "\n",
    "result_matrix=df[['Profit']]\n",
    "print(result_matrix)\n",
    "\n",
    "from sklearn.model_selection import train_test_split\n",
    "X_train, X_test, y_train, y_test = train_test_split(feature_matrix,result_matrix, train_size=0.80, random_state=1)\n",
    "\n",
    "\n",
    "from sklearn import linear_model\n",
    "reg= linear_model.LinearRegression()\n",
    "\n",
    "# Train the model using the training sets\n",
    "reg.fit(X_train, y_train)\n",
    "\n",
    "\n",
    "pred=reg.predict(X_test)"
   ]
  },
  {
   "cell_type": "code",
   "execution_count": null,
   "metadata": {},
   "outputs": [],
   "source": []
  },
  {
   "cell_type": "code",
   "execution_count": 38,
   "metadata": {},
   "outputs": [
    {
     "data": {
      "text/plain": [
       "Profit    0.636212\n",
       "dtype: float64"
      ]
     },
     "execution_count": 38,
     "metadata": {},
     "output_type": "execute_result"
    }
   ],
   "source": [
    "accuracy_score(pred,y_test,reg)"
   ]
  },
  {
   "cell_type": "code",
   "execution_count": 39,
   "metadata": {},
   "outputs": [
    {
     "data": {
      "text/plain": [
       "array([[-10.83435208],\n",
       "       [ -5.61000003],\n",
       "       [ -6.99292536],\n",
       "       ...,\n",
       "       [ -3.51104229],\n",
       "       [ -9.29546095],\n",
       "       [-33.91867528]])"
      ]
     },
     "execution_count": 39,
     "metadata": {},
     "output_type": "execute_result"
    }
   ],
   "source": [
    "\n",
    "import pickle \n",
    "  \n",
    "# Save the trained model as a pickle string. \n",
    "saved_model = pickle.dumps(reg) \n",
    "  \n",
    "# Load the pickled model \n",
    "knn_from_pickle = pickle.loads(saved_model) \n",
    "  \n",
    "# Use the loaded pickled model to make predictions \n",
    "knn_from_pickle.predict(X_test) \n"
   ]
  },
  {
   "cell_type": "code",
   "execution_count": 40,
   "metadata": {},
   "outputs": [
    {
     "data": {
      "text/plain": [
       "['filename.pkl']"
      ]
     },
     "execution_count": 40,
     "metadata": {},
     "output_type": "execute_result"
    }
   ],
   "source": [
    "from sklearn.externals import joblib \n",
    "  \n",
    "# Save the model as a pickle in a file \n",
    "joblib.dump(reg, 'filename.pkl') "
   ]
  },
  {
   "cell_type": "code",
   "execution_count": 41,
   "metadata": {},
   "outputs": [],
   "source": [
    "x=123\n",
    "y='Technology'\n",
    "data = [[x,y]] \n",
    "if y == 'Furniture':\n",
    "    y=1\n",
    "elif y == 'Office Supplies':\n",
    "    y=2\n",
    "elif y == 'Technology':\n",
    "    y=3\n",
    "else:\n",
    "    y=0"
   ]
  },
  {
   "cell_type": "code",
   "execution_count": 42,
   "metadata": {},
   "outputs": [],
   "source": [
    "data=[[x,y]]"
   ]
  },
  {
   "cell_type": "code",
   "execution_count": 43,
   "metadata": {},
   "outputs": [
    {
     "data": {
      "text/plain": [
       "[[123, 3]]"
      ]
     },
     "execution_count": 43,
     "metadata": {},
     "output_type": "execute_result"
    }
   ],
   "source": [
    "data"
   ]
  },
  {
   "cell_type": "code",
   "execution_count": 44,
   "metadata": {},
   "outputs": [],
   "source": [
    " new = pd.DataFrame(data, columns = ['Sales', 'Category']) "
   ]
  },
  {
   "cell_type": "code",
   "execution_count": 45,
   "metadata": {},
   "outputs": [],
   "source": [
    "knn_from_joblib = joblib.load('filename.pkl')  \n",
    "  \n",
    "    # Use the loaded model to make predictions \n",
    "pre=knn_from_joblib.predict(new) "
   ]
  },
  {
   "cell_type": "code",
   "execution_count": 46,
   "metadata": {},
   "outputs": [
    {
     "data": {
      "text/plain": [
       "array([[40.23444925]])"
      ]
     },
     "execution_count": 46,
     "metadata": {},
     "output_type": "execute_result"
    }
   ],
   "source": [
    "pre"
   ]
  },
  {
   "cell_type": "code",
   "execution_count": null,
   "metadata": {},
   "outputs": [],
   "source": []
  }
 ],
 "metadata": {
  "kernelspec": {
   "display_name": "Python 3",
   "language": "python",
   "name": "python3"
  },
  "language_info": {
   "codemirror_mode": {
    "name": "ipython",
    "version": 3
   },
   "file_extension": ".py",
   "mimetype": "text/x-python",
   "name": "python",
   "nbconvert_exporter": "python",
   "pygments_lexer": "ipython3",
   "version": "3.6.7"
  }
 },
 "nbformat": 4,
 "nbformat_minor": 2
}
